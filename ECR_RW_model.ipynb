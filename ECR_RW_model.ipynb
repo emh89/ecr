{
 "cells": [
  {
   "cell_type": "code",
   "execution_count": 17,
   "metadata": {},
   "outputs": [],
   "source": [
    "from __future__ import unicode_literals\n",
    "import numpy as np\n",
    "import matplotlib\n",
    "matplotlib.rcParams['text.usetex'] = True\n",
    "matplotlib.rcParams['text.latex.unicode'] = True\n",
    "import matplotlib.pyplot as plt"
   ]
  },
  {
   "cell_type": "markdown",
   "metadata": {},
   "source": [
    "##### Rescorla Wagner model\n",
    "\n",
    "$$\\Delta V = \\alpha\\beta(\\lambda - \\Sigma V)$$\n",
    "\n",
    "##### where\n",
    "\n",
    "$\\Delta =$ change in the predictive value of $V$ <br>\n",
    "$V = $ stimulus <br>\n",
    "$\\alpha =$ salience of the CS <br>\n",
    "$\\beta =$ \"speed of learning\" for US <br>\n",
    "$\\lambda =$ US present = 1 ; US absent = 0 <br>\n",
    "$\\Sigma V=$ predictive value, i.e. what is expected. Q: sum thus far of stimuli* stimuli? A: see paper cited below <br>\n",
    "\n",
    "(Wilson, 2012) <br>\n",
    "This is the Rescorla-Wagner equation. It specifies that the amount of learning (the change delta in the predictive value of a stimulus V) depends on the amount of surprise (the difference between what actually happens, lambda, and what you expect, SigmaV). By convention, lambda is usually set to a value of 1 when the US is present, and 0 when it is absent. A value other than 1 might be used if you want to model a larger or smaller US."
   ]
  },
  {
   "cell_type": "code",
   "execution_count": null,
   "metadata": {},
   "outputs": [],
   "source": []
  },
  {
   "cell_type": "code",
   "execution_count": null,
   "metadata": {},
   "outputs": [],
   "source": []
  }
 ],
 "metadata": {
  "kernelspec": {
   "display_name": "Python 2",
   "language": "python",
   "name": "python2"
  },
  "language_info": {
   "codemirror_mode": {
    "name": "ipython",
    "version": 2
   },
   "file_extension": ".py",
   "mimetype": "text/x-python",
   "name": "python",
   "nbconvert_exporter": "python",
   "pygments_lexer": "ipython2",
   "version": "2.7.13"
  }
 },
 "nbformat": 4,
 "nbformat_minor": 2
}
