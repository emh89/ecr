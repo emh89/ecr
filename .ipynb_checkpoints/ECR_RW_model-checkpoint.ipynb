{
 "cells": [
  {
   "cell_type": "code",
   "execution_count": 1,
   "metadata": {},
   "outputs": [],
   "source": [
    "from __future__ import unicode_literals\n",
    "import numpy as np\n",
    "import matplotlib\n",
    "matplotlib.rcParams['text.usetex'] = True\n",
    "matplotlib.rcParams['text.latex.unicode'] = True\n",
    "import matplotlib.pyplot as plt"
   ]
  },
  {
   "cell_type": "markdown",
   "metadata": {},
   "source": [
    "<b>Rescorla Wagner model</b>\n",
    "\n",
    "$$\\Delta V = \\alpha\\beta(\\lambda - \\Sigma V)$$<br>\n",
    "\n",
    "$V = $ stimulus <br>\n",
    "\n",
    "$\\Delta =$ change in the predictive value of $V$ (<i>i.e. amount of learning depends on amount of surprise</i>)<br>\n",
    "\n",
    "$\\Sigma V - \\lambda = $ surprise <br>\n",
    "\n",
    "$\\Sigma V=$ predictive value, i.e. what is expected. Q: sum thus far of stimuli* stimuli? A: see paper cited below <br>\n",
    "\n",
    "$\\lambda =$ US present = 1 ; US absent = 0 <i>(value other than 1 might be used if modelling a larger or smaller US) </i><br>\n",
    "\n",
    "$\\alpha =$ salience of the CS <br>\n",
    "\n",
    "$\\beta =$ \"speed of learning\" for US <br><br>\n",
    "\n",
    "<b>Resources:</b> \n",
    "(Wilson, 2012) "
   ]
  },
  {
   "cell_type": "code",
   "execution_count": null,
   "metadata": {},
   "outputs": [],
   "source": []
  }
 ],
 "metadata": {
  "kernelspec": {
   "display_name": "Python 2",
   "language": "python",
   "name": "python2"
  },
  "language_info": {
   "codemirror_mode": {
    "name": "ipython",
    "version": 2
   },
   "file_extension": ".py",
   "mimetype": "text/x-python",
   "name": "python",
   "nbconvert_exporter": "python",
   "pygments_lexer": "ipython2",
   "version": "2.7.13"
  }
 },
 "nbformat": 4,
 "nbformat_minor": 2
}
